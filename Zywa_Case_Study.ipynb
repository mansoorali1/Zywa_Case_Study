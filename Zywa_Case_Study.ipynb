{
  "nbformat": 4,
  "nbformat_minor": 0,
  "metadata": {
    "colab": {
      "provenance": []
    },
    "kernelspec": {
      "name": "python3",
      "display_name": "Python 3"
    },
    "language_info": {
      "name": "python"
    }
  },
  "cells": [
    {
      "cell_type": "markdown",
      "source": [
        "The Zywa Transactions data is present in MYSQL database. So connecting to the database and running the below SQL queries.\n"
      ],
      "metadata": {
        "id": "bTKA5TVK_Zo2"
      }
    },
    {
      "cell_type": "code",
      "execution_count": null,
      "metadata": {
        "id": "IQ0dE4Ey9SUS"
      },
      "outputs": [],
      "source": [
        "import mysql.connector\n",
        "mydb = mysql.connector.connect(\n",
        "  host=\"localhost\",\n",
        "  user=\"root\",\n",
        "  password=\"root\"\n",
        "  database=\"practice\"\n",
        ")"
      ]
    },
    {
      "cell_type": "markdown",
      "source": [
        "Q1. Need how much amount we have processed each month commutative and every month."
      ],
      "metadata": {
        "id": "Wi6yzgI9_36d"
      }
    },
    {
      "cell_type": "code",
      "source": [
        "sql= \"\"\" SELECT MONTHNAME(STR_TO_DATE(TRANSACTION_TIMESTAMP, '%m/%d/%y %H:%i')) MNTH_NME,\n",
        "MONTH(STR_TO_DATE(TRANSACTION_TIMESTAMP, '%m/%d/%y %H:%i')) MNTH_NUM ,\n",
        "SUM(BILLING_AMOUNT) MONTHLY_BILL\n",
        "FROM TRANSACTIONS\n",
        "GROUP BY MNTH_NME,\n",
        "MNTH_NUM\n",
        "\"\"\"\n",
        "mycursor=mydb.cursor()\n",
        "mycursor.execute(sql)"
      ],
      "metadata": {
        "id": "vIN38etU_yKS"
      },
      "execution_count": null,
      "outputs": []
    },
    {
      "cell_type": "markdown",
      "source": [
        "Q2. **Most Popular Products/Services:**\n",
        "\n",
        "Design a SQL query to identify the top 5 most popular products or services based on transaction counts."
      ],
      "metadata": {
        "id": "IlLHxrGCAWK1"
      }
    },
    {
      "cell_type": "code",
      "source": [
        "sql= \"\"\" SELECT MERCHANT_TYPE AS PRODUCT_SERVICES, COUNT(ID) NUM_TRNSCTNS FROM\n",
        "TRANSACTIONS\n",
        "GROUP BY PRODUCT_SERVICES\n",
        "ORDER BY NUM_TRNSCTNS DESC\n",
        "LIMIT 5\n",
        "\"\"\"\n",
        "mycursor=mydb.cursor()\n",
        "mycursor.execute(sql)"
      ],
      "metadata": {
        "id": "kjc6fDTS9UHR"
      },
      "execution_count": null,
      "outputs": []
    },
    {
      "cell_type": "markdown",
      "source": [
        "Q3. **Daily Revenue Trend:**\n",
        "\n",
        "Formulate a SQL query to visualize the daily revenue trend over time."
      ],
      "metadata": {
        "id": "Av4Q5SCkAkds"
      }
    },
    {
      "cell_type": "code",
      "source": [
        "sql= \"\"\"SELECT DATE(STR_TO_DATE(TRANSACTION_TIMESTAMP, '%m/%d/%y %H:%i')) AS DTE\n",
        ",SUM(BILLING_AMOUNT) BILLING_AMOUNT FROM TRANSACTIONS\n",
        "GROUP BY DTE\n",
        "ORDER BY DTE\n",
        "\"\"\"\n",
        "mycursor=mydb.cursor()\n",
        "mycursor.execute(sql)"
      ],
      "metadata": {
        "id": "3swK4LqF9UDt"
      },
      "execution_count": null,
      "outputs": []
    },
    {
      "cell_type": "markdown",
      "source": [
        "Q4. **Average Transaction Amount by Product Category:**\n",
        "\n",
        "Formulate a SQL query to find the average transaction amount for each product category."
      ],
      "metadata": {
        "id": "qymitUCmA7pw"
      }
    },
    {
      "cell_type": "code",
      "source": [
        "sql= \"\"\"SELECT MERCHANT_TYPE AS PRODUCT_CATEGORY,\n",
        "AVG(TRANSACTION_AMOUNT) AVG_TRNSCTN_AMNT\n",
        "FROM TRANSACTIONS\n",
        "GROUP BY PRODUCT_CATEGORY\n",
        "ORDER BY AVG_TRNSCTN_AMNT DESC\n",
        "\"\"\"\n",
        "mycursor=mydb.cursor()\n",
        "mycursor.execute(sql)"
      ],
      "metadata": {
        "id": "m-sjLwlm9T1g"
      },
      "execution_count": null,
      "outputs": []
    },
    {
      "cell_type": "markdown",
      "source": [
        "Q5. **Transaction Funnel Analysis:**\n",
        "\n",
        "Create a SQL query to analyze the transaction funnel, including completed, pending, and cancelled transactions."
      ],
      "metadata": {
        "id": "vTdUbf87BVf5"
      }
    },
    {
      "cell_type": "code",
      "source": [
        "sql= \"\"\"SELECT TRANSACTION_STATUS,COUNT(ID) TRNSCTN_COUNT FROM TRANSACTIONS\n",
        "GROUP BY TRANSACTION_STATUS\n",
        "ORDER BY TRNSCTN_COUNT DESC\n",
        "\"\"\"\n",
        "mycursor=mydb.cursor()\n",
        "mycursor.execute(sql)"
      ],
      "metadata": {
        "id": "QGQIVSza9TyA"
      },
      "execution_count": null,
      "outputs": []
    }
  ]
}